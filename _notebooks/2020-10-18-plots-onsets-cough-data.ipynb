{
 "cells": [
  {
   "cell_type": "markdown",
   "metadata": {},
   "source": [
    "# PLOTS DESCRIBING THE ONSETS WITH THE METADATA"
   ]
  },
  {
   "cell_type": "markdown",
   "metadata": {},
   "source": [
    "This blog plots basic graphic visuals related to the cleaned Coswara annotated cough data, highlighting the number of cough onsets in each file, and its relation to the metadata data as well as annotation segments."
   ]
  },
  {
   "cell_type": "code",
   "execution_count": 40,
   "metadata": {},
   "outputs": [],
   "source": [
    "#hide\n",
    "import numpy as np\n",
    "import pandas as pd\n",
    "onset_info=pd.read_csv('heavy_cough_details.csv')\n",
    "#cough_files_data = pd.read_csv('clean-heavy-cough-files.csv')\n",
    "clean_cough_files_data=pd.read_csv('clean-heavy-cough-files.csv')"
   ]
  },
  {
   "cell_type": "code",
   "execution_count": 41,
   "metadata": {},
   "outputs": [],
   "source": [
    "#hide\n",
    "onset_info.insert(4, 'Num_of_annotation_seg',1)\n",
    "onset_info.insert(5, 'average_length_of_each_seg',1)"
   ]
  },
  {
   "cell_type": "code",
   "execution_count": 42,
   "metadata": {},
   "outputs": [],
   "source": [
    "#hide\n",
    "cough_id_list=list(onset_info['id'])\n",
    "cough_paths=[]\n",
    "for file in cough_id_list:\n",
    "    cough_paths=cough_paths+['cough-heavy-clean-files/'+file+'/cough-heavy.wav']\n"
   ]
  },
  {
   "cell_type": "code",
   "execution_count": 43,
   "metadata": {
    "scrolled": true
   },
   "outputs": [
    {
     "name": "stdout",
     "output_type": "stream",
     "text": [
      "0.7603\n",
      "0.7393\n",
      "0.96\n",
      "0.286\n",
      "0.617\n",
      "0.5153\n",
      "0.961\n",
      "0.6223\n",
      "0.8167\n",
      "0.714\n",
      "0.5043\n",
      "0.531\n",
      "0.7105\n",
      "1.1708\n",
      "0.8407\n",
      "0.274\n",
      "1.81\n",
      "1.1365\n",
      "1.455\n",
      "0.2788\n",
      "0.4327\n",
      "0.3287\n",
      "0.8778\n",
      "1.7757\n",
      "1.5355\n",
      "0.332\n",
      "0.4553\n",
      "1.2453\n",
      "0.896\n",
      "0.865\n",
      "1.08\n",
      "1.533\n",
      "0.2515\n",
      "1.823\n",
      "0.5652\n",
      "1.237\n",
      "1.3885\n",
      "0.818\n",
      "0.3657\n",
      "1.321\n",
      "0.6427\n",
      "1.1677\n",
      "1.134\n",
      "0.728\n",
      "0.4298\n",
      "0.8277\n",
      "0.913\n",
      "0.459\n",
      "0.6093\n",
      "0.891\n",
      "1.526\n",
      "0.3247\n",
      "0.4975\n",
      "1.0085\n",
      "0.9875\n",
      "0.8157\n",
      "0.7287\n",
      "0.3112\n",
      "0.783\n",
      "0.4643\n",
      "1.6357\n",
      "0.4287\n",
      "0.481\n",
      "0.9383\n",
      "0.8195\n",
      "0.33\n",
      "0.982\n",
      "0.389\n",
      "1.0737\n",
      "0.7113\n",
      "0.666\n",
      "0.7305\n",
      "1.318\n",
      "0.4724\n",
      "0.7087\n",
      "0.5263\n",
      "0.7467\n",
      "0.822\n",
      "0.766\n",
      "0.934\n",
      "0.8417\n",
      "0.535\n",
      "0.58\n",
      "1.2663\n",
      "0.3847\n",
      "0.9988\n",
      "0.3807\n",
      "0.4593\n",
      "1.3357\n",
      "0.6627\n",
      "0.649\n",
      "1.4507\n",
      "0.626\n",
      "0.272\n",
      "0.5582\n",
      "0.3747\n",
      "0.9645\n",
      "0.529\n",
      "0.4093\n",
      "1.509\n",
      "0.6903\n",
      "1.105\n",
      "0.4207\n",
      "0.5463\n",
      "0.896\n",
      "1.729\n",
      "0.7576\n",
      "0.9417\n",
      "0.929\n",
      "0.8985\n",
      "0.8523\n",
      "0.9593\n",
      "0.625\n",
      "0.8903\n",
      "1.025\n",
      "1.8723\n",
      "0.9727\n",
      "0.54\n",
      "0.395\n",
      "0.3033\n",
      "1.674\n",
      "0.356\n",
      "0.3537\n",
      "0.285\n",
      "0.297\n",
      "0.376\n",
      "0.8477\n",
      "0.5053\n",
      "0.3418\n",
      "0.442\n",
      "0.687\n",
      "0.4067\n",
      "0.3033\n",
      "0.531\n",
      "0.6877\n",
      "0.5153\n",
      "0.4748\n",
      "0.596\n",
      "0.5875\n",
      "0.6607\n",
      "0.7535\n",
      "0.5892\n",
      "1.1227\n",
      "1.1917\n",
      "0.4213\n",
      "0.909\n",
      "0.9987\n",
      "0.9345\n",
      "0.4033\n",
      "0.6987\n",
      "0.569\n",
      "0.617\n",
      "0.8883\n",
      "0.4383\n",
      "0.364\n",
      "0.6907\n",
      "0.8843\n",
      "0.489\n",
      "1.076\n",
      "0.3328\n",
      "0.772\n",
      "0.6593\n",
      "0.535\n",
      "0.703\n",
      "0.666\n",
      "1.0683\n",
      "1.6733\n",
      "1.275\n",
      "0.5578\n",
      "0.632\n",
      "0.375\n",
      "0.9447\n",
      "0.383\n",
      "0.501\n",
      "0.3373\n",
      "0.448\n",
      "7.779\n",
      "0.7776\n",
      "0.6013\n",
      "1.904\n",
      "0.8127\n",
      "0.749\n",
      "0.892\n",
      "0.642\n",
      "0.6977\n",
      "0.7168\n",
      "0.469\n",
      "0.3907\n",
      "1.2497\n",
      "0.356\n",
      "1.524\n",
      "0.5743\n",
      "0.8583\n",
      "0.7632\n",
      "0.8757\n",
      "1.793\n",
      "0.396\n",
      "0.829\n",
      "0.3163\n",
      "0.2895\n",
      "0.767\n",
      "0.4104\n",
      "0.529\n",
      "0.499\n",
      "0.473\n",
      "1.0867\n",
      "0.919\n",
      "1.2402\n",
      "0.6057\n",
      "1.657\n",
      "0.8247\n",
      "0.4607\n",
      "1.2487\n",
      "1.335\n",
      "0.7858\n",
      "1.0347\n",
      "2.047\n",
      "1.0557\n",
      "1.524\n",
      "0.9293\n",
      "0.3737\n",
      "0.6943\n",
      "0.3477\n",
      "1.365\n",
      "0.8137\n",
      "0.5418\n",
      "0.932\n",
      "0.365\n",
      "0.3272\n",
      "1.0745\n",
      "0.617\n",
      "0.6297\n",
      "1.629\n",
      "0.6047\n",
      "0.3008\n",
      "0.9567\n",
      "0.3539\n",
      "0.4338\n",
      "0.6316\n",
      "0.8987\n",
      "0.2931\n",
      "0.2773\n",
      "0.3987\n",
      "1.0223\n",
      "0.7703\n",
      "0.454\n",
      "0.868\n",
      "0.5287\n",
      "0.4857\n",
      "0.3867\n",
      "0.4413\n",
      "0.8633\n",
      "1.159\n",
      "1.7203\n",
      "1.294\n",
      "0.347\n",
      "0.4833\n",
      "0.4437\n",
      "0.4613\n",
      "1.0842\n",
      "1.0792\n",
      "0.3757\n",
      "0.384\n",
      "0.363\n",
      "0.783\n",
      "0.4207\n",
      "0.3513\n",
      "0.461\n",
      "1.2503\n",
      "0.574\n",
      "1.285\n",
      "0.3533\n",
      "0.4124\n",
      "0.9093\n",
      "1.737\n",
      "0.7726\n",
      "0.8877\n",
      "0.7747\n",
      "0.8505\n",
      "1.56\n",
      "0.674\n",
      "0.3196\n",
      "0.5417\n",
      "1.2417\n",
      "0.928\n",
      "1.0267\n",
      "0.6996\n",
      "0.4907\n",
      "0.351\n",
      "4.04\n",
      "0.9693\n",
      "1.1303\n",
      "0.2973\n",
      "0.6258\n",
      "1.2067\n",
      "0.437\n",
      "1.3243\n",
      "1.481\n",
      "0.611\n",
      "1.4257\n",
      "0.4022\n",
      "0.574\n",
      "0.964\n",
      "1.4123\n",
      "0.4885\n",
      "0.7147\n",
      "0.578\n",
      "0.806\n",
      "0.4037\n",
      "0.355\n",
      "0.3924\n",
      "0.5533\n",
      "0.9643\n",
      "0.8223\n",
      "0.2657\n",
      "0.4657\n",
      "1.229\n",
      "0.5668\n",
      "0.391\n",
      "0.7527\n",
      "1.909\n",
      "0.7722\n",
      "0.8767\n",
      "0.424\n",
      "0.7237\n",
      "1.0797\n",
      "0.403\n",
      "0.9443\n",
      "6.446\n",
      "1.121\n",
      "0.459\n",
      "0.651\n",
      "0.9837\n",
      "0.5473\n",
      "0.3848\n",
      "0.4084\n",
      "0.3775\n",
      "1.6325\n",
      "0.4853\n",
      "0.6985\n",
      "0.741\n",
      "0.9825\n",
      "1.0985\n",
      "0.8107\n",
      "0.793\n",
      "0.9343\n",
      "0.948\n",
      "0.4977\n",
      "0.4123\n",
      "0.215\n",
      "0.4736\n",
      "0.4033\n",
      "0.602\n",
      "0.742\n",
      "1.26\n",
      "0.483\n",
      "0.4557\n",
      "0.487\n",
      "0.9417\n",
      "0.692\n",
      "0.6193\n",
      "0.7063\n",
      "0.7746\n",
      "2.325\n",
      "0.413\n"
     ]
    },
    {
     "name": "stderr",
     "output_type": "stream",
     "text": [
      "/home/ananya/anaconda3/lib/python3.7/site-packages/ipykernel_launcher.py:8: SettingWithCopyWarning: \n",
      "A value is trying to be set on a copy of a slice from a DataFrame\n",
      "\n",
      "See the caveats in the documentation: https://pandas.pydata.org/pandas-docs/stable/user_guide/indexing.html#returning-a-view-versus-a-copy\n",
      "  \n",
      "/home/ananya/anaconda3/lib/python3.7/site-packages/ipykernel_launcher.py:13: SettingWithCopyWarning: \n",
      "A value is trying to be set on a copy of a slice from a DataFrame\n",
      "\n",
      "See the caveats in the documentation: https://pandas.pydata.org/pandas-docs/stable/user_guide/indexing.html#returning-a-view-versus-a-copy\n",
      "  del sys.path[0]\n"
     ]
    }
   ],
   "source": [
    "#hide\n",
    "for f in range(len(cough_paths)):\n",
    "    num_seg=0\n",
    "    s=0\n",
    "    for num_of_ann_seg in range(12):\n",
    "        if(np.isnan(cough_files_data['start_{}'.format(num_of_ann_seg+1)][f])== False):\n",
    "            num_seg=num_seg+1\n",
    "    onset_info['Num_of_annotation_seg'][f] = num_seg\n",
    "    \n",
    "    for n in range(num_seg):\n",
    "        s = s + (cough_files_data['end_{}'.format(n+1)][f]-cough_files_data['start_{}'.format(n+1)][f])\n",
    "    print(round(s/num_seg,4))\n",
    "    onset_info['average_length_of_each_seg'][f] = round(s/num_seg,4)\n",
    "    "
   ]
  },
  {
   "cell_type": "code",
   "execution_count": 44,
   "metadata": {
    "scrolled": true
   },
   "outputs": [],
   "source": [
    "#hide\n",
    "onset_info['average_length_of_each_seg']=onset_info['average_length_of_each_seg'].astype(float)"
   ]
  },
  {
   "cell_type": "code",
   "execution_count": 45,
   "metadata": {},
   "outputs": [],
   "source": [
    "#hide\n",
    "onset_info = onset_info.drop(columns=['Unnamed: 0'])"
   ]
  },
  {
   "cell_type": "code",
   "execution_count": 46,
   "metadata": {},
   "outputs": [
    {
     "data": {
      "text/plain": [
       "Index(['id', 'recording', 'upload_date', 'Num_of_annotation_seg',\n",
       "       'average_length_of_each_seg', 'vol', 'cont', 'quality', 'stage', 'a',\n",
       "       'covid_status', 'ep', 'g', 'l_c', 'l_l', 'l_s', 'rU', 'asthma', 'cough',\n",
       "       'smoker', 'test', 'ht', 'cold', 'diabetes', 'um', 'ihd', 'bd', 'st',\n",
       "       'fever', 'ftg', 'mp', 'loss_of_smell', 'cld', 'pneumonia',\n",
       "       'num_of_onsets', 'onset_1', 'onset_2', 'onset_3', 'onset_4', 'onset_5',\n",
       "       'onset_6', 'onset_7', 'onset_8', 'onset_9', 'onset_10', 'onset_11',\n",
       "       'onset_12', 'onset_13', 'onset_14', 'onset_15', 'onset_16', 'onset_17',\n",
       "       'onset_18', 'onset_19', 'onset_20'],\n",
       "      dtype='object')"
      ]
     },
     "execution_count": 46,
     "metadata": {},
     "output_type": "execute_result"
    }
   ],
   "source": [
    "onset_info.columns"
   ]
  },
  {
   "cell_type": "code",
   "execution_count": 47,
   "metadata": {},
   "outputs": [],
   "source": [
    "#hide\n",
    "onset_info.insert(11, 'status', 'covid')"
   ]
  },
  {
   "cell_type": "code",
   "execution_count": 48,
   "metadata": {},
   "outputs": [],
   "source": [
    "#hide\n",
    "onset_info.insert(12, 'health_status', 'unhealthy')"
   ]
  },
  {
   "cell_type": "code",
   "execution_count": 49,
   "metadata": {},
   "outputs": [
    {
     "data": {
      "text/plain": [
       "healthy                        233\n",
       "positive_mild                   54\n",
       "no_resp_illness_exposed         31\n",
       "recovered_full                  16\n",
       "positive_asymp                  13\n",
       "resp_illness_not_identified     10\n",
       "positive_moderate                8\n",
       "Name: covid_status, dtype: int64"
      ]
     },
     "execution_count": 49,
     "metadata": {},
     "output_type": "execute_result"
    }
   ],
   "source": [
    "#hide\n",
    "(onset_info['covid_status']).value_counts()"
   ]
  },
  {
   "cell_type": "code",
   "execution_count": 50,
   "metadata": {},
   "outputs": [
    {
     "data": {
      "text/plain": [
       "Index(['id', 'recording', 'upload_date', 'Num_of_annotation_seg',\n",
       "       'average_length_of_each_seg', 'vol', 'cont', 'quality', 'stage', 'a',\n",
       "       'covid_status', 'status', 'health_status', 'ep', 'g', 'l_c', 'l_l',\n",
       "       'l_s', 'rU', 'asthma', 'cough', 'smoker', 'test', 'ht', 'cold',\n",
       "       'diabetes', 'um', 'ihd', 'bd', 'st', 'fever', 'ftg', 'mp',\n",
       "       'loss_of_smell', 'cld', 'pneumonia', 'num_of_onsets', 'onset_1',\n",
       "       'onset_2', 'onset_3', 'onset_4', 'onset_5', 'onset_6', 'onset_7',\n",
       "       'onset_8', 'onset_9', 'onset_10', 'onset_11', 'onset_12', 'onset_13',\n",
       "       'onset_14', 'onset_15', 'onset_16', 'onset_17', 'onset_18', 'onset_19',\n",
       "       'onset_20'],\n",
       "      dtype='object')"
      ]
     },
     "execution_count": 50,
     "metadata": {},
     "output_type": "execute_result"
    }
   ],
   "source": [
    "#hide\n",
    "onset_info.columns"
   ]
  },
  {
   "cell_type": "code",
   "execution_count": 52,
   "metadata": {},
   "outputs": [
    {
     "name": "stderr",
     "output_type": "stream",
     "text": [
      "/home/ananya/anaconda3/lib/python3.7/site-packages/ipykernel_launcher.py:10: SettingWithCopyWarning: \n",
      "A value is trying to be set on a copy of a slice from a DataFrame\n",
      "\n",
      "See the caveats in the documentation: https://pandas.pydata.org/pandas-docs/stable/user_guide/indexing.html#returning-a-view-versus-a-copy\n",
      "  # Remove the CWD from sys.path while we load stuff.\n",
      "/home/ananya/anaconda3/lib/python3.7/site-packages/ipykernel_launcher.py:6: SettingWithCopyWarning: \n",
      "A value is trying to be set on a copy of a slice from a DataFrame\n",
      "\n",
      "See the caveats in the documentation: https://pandas.pydata.org/pandas-docs/stable/user_guide/indexing.html#returning-a-view-versus-a-copy\n",
      "  \n",
      "/home/ananya/anaconda3/lib/python3.7/site-packages/ipykernel_launcher.py:4: SettingWithCopyWarning: \n",
      "A value is trying to be set on a copy of a slice from a DataFrame\n",
      "\n",
      "See the caveats in the documentation: https://pandas.pydata.org/pandas-docs/stable/user_guide/indexing.html#returning-a-view-versus-a-copy\n",
      "  after removing the cwd from sys.path.\n",
      "/home/ananya/anaconda3/lib/python3.7/site-packages/ipykernel_launcher.py:8: SettingWithCopyWarning: \n",
      "A value is trying to be set on a copy of a slice from a DataFrame\n",
      "\n",
      "See the caveats in the documentation: https://pandas.pydata.org/pandas-docs/stable/user_guide/indexing.html#returning-a-view-versus-a-copy\n",
      "  \n"
     ]
    }
   ],
   "source": [
    "#hide\n",
    "for l in range(365):\n",
    "    if(onset_info['covid_status'][l] == 'healthy'):\n",
    "        onset_info['status'][l] = 'non_covid'\n",
    "    elif(onset_info['covid_status'][l] == 'no_resp_illness_exposed'):\n",
    "        onset_info['status'][l] = 'non_covid'\n",
    "    elif(onset_info['covid_status'][l] == 'resp_illness_not_identified'):\n",
    "        onset_info['status'][l] = 'non_covid'\n",
    "    else:\n",
    "        onset_info['status'][l] = 'covid'\n",
    "               "
   ]
  },
  {
   "cell_type": "code",
   "execution_count": 53,
   "metadata": {},
   "outputs": [
    {
     "name": "stderr",
     "output_type": "stream",
     "text": [
      "/home/ananya/anaconda3/lib/python3.7/site-packages/ipykernel_launcher.py:8: SettingWithCopyWarning: \n",
      "A value is trying to be set on a copy of a slice from a DataFrame\n",
      "\n",
      "See the caveats in the documentation: https://pandas.pydata.org/pandas-docs/stable/user_guide/indexing.html#returning-a-view-versus-a-copy\n",
      "  \n",
      "/home/ananya/anaconda3/lib/python3.7/site-packages/ipykernel_launcher.py:6: SettingWithCopyWarning: \n",
      "A value is trying to be set on a copy of a slice from a DataFrame\n",
      "\n",
      "See the caveats in the documentation: https://pandas.pydata.org/pandas-docs/stable/user_guide/indexing.html#returning-a-view-versus-a-copy\n",
      "  \n",
      "/home/ananya/anaconda3/lib/python3.7/site-packages/ipykernel_launcher.py:4: SettingWithCopyWarning: \n",
      "A value is trying to be set on a copy of a slice from a DataFrame\n",
      "\n",
      "See the caveats in the documentation: https://pandas.pydata.org/pandas-docs/stable/user_guide/indexing.html#returning-a-view-versus-a-copy\n",
      "  after removing the cwd from sys.path.\n"
     ]
    }
   ],
   "source": [
    "#hide\n",
    "for l in range(365):\n",
    "    if(onset_info['covid_status'][l] == 'healthy'):\n",
    "        onset_info['health_status'][l] = 'healthy'\n",
    "    elif(onset_info['covid_status'][l] == 'no_resp_illness_exposed'):\n",
    "        onset_info['health_status'][l] = 'healthy'\n",
    "    else:\n",
    "        onset_info['health_status'][l] = 'unhealthy'"
   ]
  },
  {
   "cell_type": "markdown",
   "metadata": {},
   "source": [
    "The plot below gives the gender based distributions of various categories of status of the patients."
   ]
  },
  {
   "cell_type": "code",
   "execution_count": 54,
   "metadata": {},
   "outputs": [
    {
     "data": {
      "text/plain": [
       "Text(0.5, 1.0, 'status')"
      ]
     },
     "execution_count": 54,
     "metadata": {},
     "output_type": "execute_result"
    },
    {
     "data": {
      "image/png": "[encoded data removed]",
      "text/plain": [
       "<Figure size 936x720 with 1 Axes>"
      ]
     },
     "metadata": {
      "needs_background": "light"
     },
     "output_type": "display_data"
    }
   ],
   "source": [
    "#hide_input\n",
    "import seaborn as sns\n",
    "import matplotlib.pyplot as plt\n",
    "plt.figure(figsize=(13,10))\n",
    "splot=sns.countplot(data=onset_info, x='covid_status', hue='g')\n",
    "for p in splot.patches:\n",
    "    splot.annotate(int(p.get_height()), (p.get_x() + p.get_width() / 2., p.get_height()), ha = 'center',\n",
    "               va = 'center', xytext = (0, 10), textcoords = 'offset points')\n",
    "plt.savefig('Covid_statuscount.png')\n",
    "plt.title('status', color='white')"
   ]
  },
  {
   "cell_type": "markdown",
   "metadata": {},
   "source": [
    "This plots below shows that out of 369 clean annotated cough files, 91 are covid positive, but 101 are unhealthy( the rest due to unknown reasons other than covid)."
   ]
  },
  {
   "cell_type": "code",
   "execution_count": 55,
   "metadata": {},
   "outputs": [
    {
     "data": {
      "text/plain": [
       "Text(0.5, 1.0, 'health status')"
      ]
     },
     "execution_count": 55,
     "metadata": {},
     "output_type": "execute_result"
    },
    {
     "data": {
      "image/png": "[encoded data removed]",
      "text/plain": [
       "<Figure size 720x720 with 1 Axes>"
      ]
     },
     "metadata": {
      "needs_background": "light"
     },
     "output_type": "display_data"
    }
   ],
   "source": [
    "#hide_input\n",
    "import seaborn as sns\n",
    "import matplotlib.pyplot as plt\n",
    "plt.figure(figsize=(10,10))\n",
    "splot=sns.countplot(data=onset_info, x='health_status', hue='g')\n",
    "for p in splot.patches:\n",
    "    splot.annotate(int(p.get_height()), (p.get_x() + p.get_width() / 2., p.get_height()), ha = 'center',\n",
    "               va = 'center', xytext = (0, 10), textcoords = 'offset points')\n",
    "plt.savefig('health_statuscount.png')\n",
    "plt.title('health status', color='white')"
   ]
  },
  {
   "cell_type": "code",
   "execution_count": 56,
   "metadata": {},
   "outputs": [
    {
     "data": {
      "text/plain": [
       "Text(0.5, 1.0, 'Covid health status')"
      ]
     },
     "execution_count": 56,
     "metadata": {},
     "output_type": "execute_result"
    },
    {
     "data": {
      "image/png": "[encoded data removed]",
      "text/plain": [
       "<Figure size 720x720 with 1 Axes>"
      ]
     },
     "metadata": {
      "needs_background": "light"
     },
     "output_type": "display_data"
    }
   ],
   "source": [
    "#hide_input\n",
    "import seaborn as sns\n",
    "import matplotlib.pyplot as plt\n",
    "plt.figure(figsize=(10,10))\n",
    "splot=sns.countplot(data=onset_info, x='status', hue='g')\n",
    "for p in splot.patches:\n",
    "    splot.annotate(int(p.get_height()), (p.get_x() + p.get_width() / 2., p.get_height()), ha = 'center',\n",
    "               va = 'center', xytext = (0, 10), textcoords = 'offset points')\n",
    "plt.savefig('number_of_covidcount.png')\n",
    "plt.title('Covid health status', color='white')"
   ]
  },
  {
   "cell_type": "markdown",
   "metadata": {},
   "source": [
    "Plotting the distribution of duration between onsets"
   ]
  },
  {
   "cell_type": "markdown",
   "metadata": {},
   "source": [
    "The minimum number of onsets is 2, the minimum and maximum duration between onsets was also calculated."
   ]
  },
  {
   "cell_type": "code",
   "execution_count": 70,
   "metadata": {},
   "outputs": [
    {
     "data": {
      "text/plain": [
       "2382"
      ]
     },
     "execution_count": 70,
     "metadata": {},
     "output_type": "execute_result"
    }
   ],
   "source": [
    "#hide\n",
    "np.sum(onset_info['num_of_onsets'])"
   ]
  },
  {
   "cell_type": "code",
   "execution_count": 57,
   "metadata": {},
   "outputs": [],
   "source": [
    "#hide\n",
    "duration_between_onsets=[]\n",
    "for f in range(len(cough_paths)):  \n",
    "    for num in range(onset_info['num_of_onsets'][f] - 1):\n",
    "        x=onset_info['onset_{}'.format(num+2)][f]-onset_info['onset_{}'.format(num+1)][f]\n",
    "        if(x<0):\n",
    "            print(f)\n",
    "            print(num)\n",
    "            print(onset_info['num_of_onsets'][f])\n",
    "        duration_between_onsets = duration_between_onsets + [onset_info['onset_{}'.format(num+2)][f]-onset_info['onset_{}'.format(num+1)][f]]\n",
    "                                                            \n",
    "    "
   ]
  },
  {
   "cell_type": "code",
   "execution_count": 58,
   "metadata": {},
   "outputs": [
    {
     "data": {
      "text/plain": [
       "2017"
      ]
     },
     "execution_count": 58,
     "metadata": {},
     "output_type": "execute_result"
    }
   ],
   "source": [
    "len(duration_between_onsets)"
   ]
  },
  {
   "cell_type": "code",
   "execution_count": 59,
   "metadata": {},
   "outputs": [
    {
     "data": {
      "text/plain": [
       "dtype('float64')"
      ]
     },
     "execution_count": 59,
     "metadata": {},
     "output_type": "execute_result"
    }
   ],
   "source": [
    "#hide\n",
    "duration_df=pd.DataFrame(duration_between_onsets, columns=['dur'])\n",
    "duration_df['dur'].dtype"
   ]
  },
  {
   "cell_type": "code",
   "execution_count": 76,
   "metadata": {},
   "outputs": [
    {
     "name": "stdout",
     "output_type": "stream",
     "text": [
      "0.005999999999999561\n",
      "6.0360000000000005\n"
     ]
    },
    {
     "data": {
      "image/png": "[encoded data removed]",
      "text/plain": [
       "<Figure size 432x288 with 1 Axes>"
      ]
     },
     "metadata": {
      "needs_background": "light"
     },
     "output_type": "display_data"
    }
   ],
   "source": [
    "import seaborn as sns\n",
    "import matplotlib.pyplot as plt\n",
    "sns.histplot(data=duration_df , x='dur')\n",
    "plt.title('Histogram of duration between cough onsets', color='white')\n",
    "print(np.min(duration_between_onsets))\n",
    "print(np.max(duration_between_onsets))"
   ]
  },
  {
   "cell_type": "code",
   "execution_count": 61,
   "metadata": {},
   "outputs": [
    {
     "data": {
      "text/plain": [
       "2"
      ]
     },
     "execution_count": 61,
     "metadata": {},
     "output_type": "execute_result"
    }
   ],
   "source": [
    "np.min(onset_info['num_of_onsets'])"
   ]
  },
  {
   "cell_type": "markdown",
   "metadata": {},
   "source": [
    "The plots below show the relation of data points bewteen number of onsets and annotation parameters"
   ]
  },
  {
   "cell_type": "code",
   "execution_count": 62,
   "metadata": {},
   "outputs": [
    {
     "data": {
      "text/plain": [
       "Text(0.5, 1.0, 'length of each segment versus number of onsets')"
      ]
     },
     "execution_count": 62,
     "metadata": {},
     "output_type": "execute_result"
    },
    {
     "data": {
      "image/png": "[encoded data removed]",
      "text/plain": [
       "<Figure size 936x720 with 1 Axes>"
      ]
     },
     "metadata": {
      "needs_background": "light"
     },
     "output_type": "display_data"
    }
   ],
   "source": [
    "#hide_input\n",
    "import seaborn as sns\n",
    "import matplotlib.pyplot as plt\n",
    "plt.figure(figsize=(13,10))\n",
    "sns.barplot(data=onset_info, y='average_length_of_each_seg'\n",
    "               ,x= 'num_of_onsets', hue='g')\n",
    "plt.title('length of each segment versus number of onsets', color='white')"
   ]
  },
  {
   "cell_type": "code",
   "execution_count": 63,
   "metadata": {},
   "outputs": [
    {
     "data": {
      "text/plain": [
       "Text(0.5, 1.0, 'Number of annotated segments per file versus number of onsets')"
      ]
     },
     "execution_count": 63,
     "metadata": {},
     "output_type": "execute_result"
    },
    {
     "data": {
      "image/png": "[encoded data removed]",
      "text/plain": [
       "<Figure size 936x720 with 1 Axes>"
      ]
     },
     "metadata": {
      "needs_background": "light"
     },
     "output_type": "display_data"
    }
   ],
   "source": [
    "#hide_input\n",
    "import seaborn as sns\n",
    "import matplotlib.pyplot as plt\n",
    "plt.figure(figsize=(13,10))\n",
    "sns.barplot(data=onset_info, y='Num_of_annotation_seg'\n",
    "               ,x= 'num_of_onsets', hue='g')\n",
    "plt.title('Number of annotated segments per file versus number of onsets', color='white')"
   ]
  },
  {
   "cell_type": "markdown",
   "metadata": {},
   "source": [
    "The plots further below, show a relation/distribution between number of segments in each user file, numner of onsets of cough in each file, and symptoms claimed by each such user(cough, cold, pneumonia, asthma, fever)"
   ]
  },
  {
   "cell_type": "code",
   "execution_count": 64,
   "metadata": {},
   "outputs": [
    {
     "data": {
      "text/plain": [
       "Text(0.5, 1.0, 'Number of annotated segments per file versus number of onsets (observed Metadata:Cough)')"
      ]
     },
     "execution_count": 64,
     "metadata": {},
     "output_type": "execute_result"
    },
    {
     "data": {
      "image/png": "[encoded data removed]",
      "text/plain": [
       "<Figure size 936x720 with 1 Axes>"
      ]
     },
     "metadata": {
      "needs_background": "light"
     },
     "output_type": "display_data"
    }
   ],
   "source": [
    "#hide\n",
    "import seaborn as sns\n",
    "import matplotlib.pyplot as plt\n",
    "onset_info['cough'] = onset_info['cough'].fillna(False)\n",
    "plt.figure(figsize=(13,10))\n",
    "sns.barplot(data=onset_info, y='Num_of_annotation_seg'\n",
    "               ,x= 'num_of_onsets', hue='cough')\n",
    "plt.title('Number of annotated segments per file versus number of onsets (observed Metadata:Cough)', color='white')"
   ]
  },
  {
   "cell_type": "code",
   "execution_count": 65,
   "metadata": {},
   "outputs": [
    {
     "data": {
      "text/plain": [
       "Text(0.5, 1.0, 'length of each segment versus number of onsets (observed metadata:cough)')"
      ]
     },
     "execution_count": 65,
     "metadata": {},
     "output_type": "execute_result"
    },
    {
     "data": {
      "image/png": "[encoded data removed]",
      "text/plain": [
       "<Figure size 936x720 with 1 Axes>"
      ]
     },
     "metadata": {
      "needs_background": "light"
     },
     "output_type": "display_data"
    }
   ],
   "source": [
    "#hide_input\n",
    "import seaborn as sns\n",
    "import matplotlib.pyplot as plt\n",
    "plt.figure(figsize=(13,10))\n",
    "sns.barplot(data=onset_info, y='average_length_of_each_seg'\n",
    "               ,x= 'num_of_onsets', hue='cough', palette=\"Set2\")\n",
    "plt.title('length of each segment versus number of onsets (observed metadata:cough)', color='white')"
   ]
  },
  {
   "cell_type": "code",
   "execution_count": 67,
   "metadata": {},
   "outputs": [
    {
     "data": {
      "text/plain": [
       "Text(0.5, 1.0, 'length of each segment versus number of onsets(observed metadata: cold)')"
      ]
     },
     "execution_count": 67,
     "metadata": {},
     "output_type": "execute_result"
    },
    {
     "data": {
      "image/png": "[encoded data removed]",
      "text/plain": [
       "<Figure size 936x720 with 1 Axes>"
      ]
     },
     "metadata": {
      "needs_background": "light"
     },
     "output_type": "display_data"
    }
   ],
   "source": [
    "#hide_input\n",
    "import seaborn as sns\n",
    "import matplotlib.pyplot as plt\n",
    "onset_info['cold'] = onset_info['cold'].fillna(False)\n",
    "plt.figure(figsize=(13,10))\n",
    "sns.barplot(data=onset_info, y='average_length_of_each_seg'\n",
    "               ,x= 'num_of_onsets', hue='cold', palette=\"husl\")\n",
    "plt.title('length of each segment versus number of onsets(observed metadata: cold)', color='white')"
   ]
  },
  {
   "cell_type": "code",
   "execution_count": 69,
   "metadata": {},
   "outputs": [
    {
     "data": {
      "text/plain": [
       "Text(0.5, 1.0, 'Number of annotated segments per file versus number of onsets(observed metadata: fever)')"
      ]
     },
     "execution_count": 69,
     "metadata": {},
     "output_type": "execute_result"
    },
    {
     "data": {
      "image/png": "[encoded data removed]",
      "text/plain": [
       "<Figure size 936x720 with 1 Axes>"
      ]
     },
     "metadata": {
      "needs_background": "light"
     },
     "output_type": "display_data"
    }
   ],
   "source": [
    "#hide_input\n",
    "import seaborn as sns\n",
    "import matplotlib.pyplot as plt\n",
    "onset_info['fever'] = onset_info['fever'].fillna(False)\n",
    "plt.figure(figsize=(13,10))\n",
    "sns.barplot(data=onset_info, y='average_length_of_each_seg'\n",
    "               ,x= 'num_of_onsets', hue='fever', palette='flare')\n",
    "plt.title('Number of annotated segments per file versus number of onsets(observed metadata: fever)', color='white')"
   ]
  }
 ],
 "metadata": {
  "kernelspec": {
   "display_name": "Python 3",
   "language": "python",
   "name": "python3"
  },
  "language_info": {
   "codemirror_mode": {
    "name": "ipython",
    "version": 3
   },
   "file_extension": ".py",
   "mimetype": "text/x-python",
   "name": "python",
   "nbconvert_exporter": "python",
   "pygments_lexer": "ipython3",
   "version": "3.7.3"
  }
 },
 "nbformat": 4,
 "nbformat_minor": 4
}
